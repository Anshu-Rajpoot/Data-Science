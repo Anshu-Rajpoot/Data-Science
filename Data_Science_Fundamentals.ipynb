{
  "nbformat": 4,
  "nbformat_minor": 0,
  "metadata": {
    "colab": {
      "provenance": [],
      "authorship_tag": "ABX9TyNdMISM8kyO/R6cZmi34hrd",
      "include_colab_link": true
    },
    "kernelspec": {
      "name": "python3",
      "display_name": "Python 3"
    },
    "language_info": {
      "name": "python"
    }
  },
  "cells": [
    {
      "cell_type": "markdown",
      "metadata": {
        "id": "view-in-github",
        "colab_type": "text"
      },
      "source": [
        "<a href=\"https://colab.research.google.com/github/Anshu-Rajpoot/Data-Science/blob/main/Data_Science_Fundamentals.ipynb\" target=\"_parent\"><img src=\"https://colab.research.google.com/assets/colab-badge.svg\" alt=\"Open In Colab\"/></a>"
      ]
    },
    {
      "cell_type": "markdown",
      "source": [
        "Custom Functions and Built-in Ones"
      ],
      "metadata": {
        "id": "MpbmzZoJVrxM"
      }
    },
    {
      "cell_type": "code",
      "source": [
        "def num_to_str(n):\n",
        "  return str(n)\n",
        "def str_to_int(s):\n",
        "  return int(s)\n",
        "def str_to_float(f):\n",
        "  return float(f)\n",
        "\n",
        "if __name__ ==\"__main__\":\n",
        "\n",
        "# single line comment\n",
        "  '''multi line comment'''\n",
        "\n",
        "  float_num=999.01\n",
        "  int_num=87\n",
        "  float_str='23.09'\n",
        "  int_str='19'\n",
        "  string=\"Hi Everyone\"\n",
        "\n",
        "  s_float=num_to_str(float_num)\n",
        "  s_int=num_to_str(int_num)\n",
        "  i_str=str_to_int(int_str)\n",
        "  f_str=str_to_float(float_str)\n",
        "\n",
        "  print(s_float, \" is \", type(s_float))\n",
        "  print(s_int)\n",
        "  print(f_str)\n",
        "  print(i_str)\n",
        "  str_ls=string.split()\n",
        "  print(str_ls)\n",
        "  print(' '.join(str_ls))"
      ],
      "metadata": {
        "colab": {
          "base_uri": "https://localhost:8080/"
        },
        "id": "OOVus4ARV1ai",
        "outputId": "b982be59-39be-4786-aabf-2c1b5d04a50f"
      },
      "execution_count": 11,
      "outputs": [
        {
          "output_type": "stream",
          "name": "stdout",
          "text": [
            "999.01  is  <class 'str'>\n",
            "87\n",
            "23.09\n",
            "19\n",
            "['Hi', 'Everyone']\n",
            "Hi Everyone\n"
          ]
        }
      ]
    },
    {
      "cell_type": "markdown",
      "source": [
        "Reading and Writing Data"
      ],
      "metadata": {
        "id": "9IJ_K7bMYVeh"
      }
    },
    {
      "cell_type": "code",
      "source": [
        "import csv\n",
        "def read_txt(f):\n",
        "  with open(f,'r') as f:\n",
        "    d=f.readlines()\n",
        "    return[x.strip() for x in d]\n",
        "\n",
        "def conv_csv(t,c):\n",
        "  data=read_txt(t)\n",
        "  with open(c,'w', newline='') as csv_file:\n",
        "    writer=csv.writer(csv_file)\n",
        "    for line in data:\n",
        "      ls=line.split()\n",
        "      writer.writerow(ls)\n",
        "\n",
        "def read_csv(f):\n",
        "  content=''\n",
        "  with open(f,'r') as f:\n",
        "   reader=csv.reader(f)\n",
        "   return list(reader)\n",
        "\n",
        "def read_dict(f,h):\n",
        "  input_file= csv.DictReader(open(f), fieldnames=h)\n",
        "  return input_file\n",
        "\n",
        "def od_to_d(od):\n",
        "  return dict(od)\n",
        "\n",
        "if __name__ ==\"__main__\":\n",
        "  f=\"sample.txt\"\n",
        "  data=read_txt(f)\n",
        "  print('Text file data sample : ')"
      ],
      "metadata": {
        "colab": {
          "base_uri": "https://localhost:8080/",
          "height": 327
        },
        "id": "OjLv9PBYYbKk",
        "outputId": "8c995f97-7290-4537-edd7-670185d77a42"
      },
      "execution_count": 16,
      "outputs": [
        {
          "output_type": "error",
          "ename": "FileNotFoundError",
          "evalue": "[Errno 2] No such file or directory: 'sample.txt'",
          "traceback": [
            "\u001b[0;31m---------------------------------------------------------------------------\u001b[0m",
            "\u001b[0;31mFileNotFoundError\u001b[0m                         Traceback (most recent call last)",
            "\u001b[0;32m<ipython-input-16-77f62494b449>\u001b[0m in \u001b[0;36m<cell line: 0>\u001b[0;34m()\u001b[0m\n\u001b[1;32m     28\u001b[0m \u001b[0;32mif\u001b[0m \u001b[0m__name__\u001b[0m \u001b[0;34m==\u001b[0m\u001b[0;34m\"__main__\"\u001b[0m\u001b[0;34m:\u001b[0m\u001b[0;34m\u001b[0m\u001b[0;34m\u001b[0m\u001b[0m\n\u001b[1;32m     29\u001b[0m   \u001b[0mf\u001b[0m\u001b[0;34m=\u001b[0m\u001b[0;34m\"sample.txt\"\u001b[0m\u001b[0;34m\u001b[0m\u001b[0;34m\u001b[0m\u001b[0m\n\u001b[0;32m---> 30\u001b[0;31m   \u001b[0mdata\u001b[0m\u001b[0;34m=\u001b[0m\u001b[0mread_txt\u001b[0m\u001b[0;34m(\u001b[0m\u001b[0mf\u001b[0m\u001b[0;34m)\u001b[0m\u001b[0;34m\u001b[0m\u001b[0;34m\u001b[0m\u001b[0m\n\u001b[0m\u001b[1;32m     31\u001b[0m   \u001b[0mprint\u001b[0m\u001b[0;34m(\u001b[0m\u001b[0;34m'Text file data sample : '\u001b[0m\u001b[0;34m)\u001b[0m\u001b[0;34m\u001b[0m\u001b[0;34m\u001b[0m\u001b[0m\n",
            "\u001b[0;32m<ipython-input-16-77f62494b449>\u001b[0m in \u001b[0;36mread_txt\u001b[0;34m(f)\u001b[0m\n\u001b[1;32m      1\u001b[0m \u001b[0;32mimport\u001b[0m \u001b[0mcsv\u001b[0m\u001b[0;34m\u001b[0m\u001b[0;34m\u001b[0m\u001b[0m\n\u001b[1;32m      2\u001b[0m \u001b[0;32mdef\u001b[0m \u001b[0mread_txt\u001b[0m\u001b[0;34m(\u001b[0m\u001b[0mf\u001b[0m\u001b[0;34m)\u001b[0m\u001b[0;34m:\u001b[0m\u001b[0;34m\u001b[0m\u001b[0;34m\u001b[0m\u001b[0m\n\u001b[0;32m----> 3\u001b[0;31m   \u001b[0;32mwith\u001b[0m \u001b[0mopen\u001b[0m\u001b[0;34m(\u001b[0m\u001b[0mf\u001b[0m\u001b[0;34m,\u001b[0m\u001b[0;34m'r'\u001b[0m\u001b[0;34m)\u001b[0m \u001b[0;32mas\u001b[0m \u001b[0mf\u001b[0m\u001b[0;34m:\u001b[0m\u001b[0;34m\u001b[0m\u001b[0;34m\u001b[0m\u001b[0m\n\u001b[0m\u001b[1;32m      4\u001b[0m     \u001b[0md\u001b[0m\u001b[0;34m=\u001b[0m\u001b[0mf\u001b[0m\u001b[0;34m.\u001b[0m\u001b[0mreadlines\u001b[0m\u001b[0;34m(\u001b[0m\u001b[0;34m)\u001b[0m\u001b[0;34m\u001b[0m\u001b[0;34m\u001b[0m\u001b[0m\n\u001b[1;32m      5\u001b[0m     \u001b[0;32mreturn\u001b[0m\u001b[0;34m[\u001b[0m\u001b[0mx\u001b[0m\u001b[0;34m.\u001b[0m\u001b[0mstrip\u001b[0m\u001b[0;34m(\u001b[0m\u001b[0;34m)\u001b[0m \u001b[0;32mfor\u001b[0m \u001b[0mx\u001b[0m \u001b[0;32min\u001b[0m \u001b[0md\u001b[0m\u001b[0;34m]\u001b[0m\u001b[0;34m\u001b[0m\u001b[0;34m\u001b[0m\u001b[0m\n",
            "\u001b[0;31mFileNotFoundError\u001b[0m: [Errno 2] No such file or directory: 'sample.txt'"
          ]
        }
      ]
    },
    {
      "cell_type": "code",
      "source": [
        "from google.colab import drive\n",
        "drive.mount('/content/drive')"
      ],
      "metadata": {
        "id": "2QbMO2bod9e1"
      },
      "execution_count": null,
      "outputs": []
    }
  ]
}