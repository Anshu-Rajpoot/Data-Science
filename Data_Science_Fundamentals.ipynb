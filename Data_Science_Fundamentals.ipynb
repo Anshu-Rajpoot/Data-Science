{
  "nbformat": 4,
  "nbformat_minor": 0,
  "metadata": {
    "colab": {
      "provenance": [],
      "authorship_tag": "ABX9TyN7iJZAJUnDe3cnQoVa6XxM",
      "include_colab_link": true
    },
    "kernelspec": {
      "name": "python3",
      "display_name": "Python 3"
    },
    "language_info": {
      "name": "python"
    }
  },
  "cells": [
    {
      "cell_type": "markdown",
      "metadata": {
        "id": "view-in-github",
        "colab_type": "text"
      },
      "source": [
        "<a href=\"https://colab.research.google.com/github/Anshu-Rajpoot/Data-Science/blob/main/Data_Science_Fundamentals.ipynb\" target=\"_parent\"><img src=\"https://colab.research.google.com/assets/colab-badge.svg\" alt=\"Open In Colab\"/></a>"
      ]
    },
    {
      "cell_type": "markdown",
      "source": [
        "Custom Functions and Built-in Ones"
      ],
      "metadata": {
        "id": "MpbmzZoJVrxM"
      }
    },
    {
      "cell_type": "code",
      "source": [
        "def num_to_str(n):\n",
        "  return str(n)\n",
        "def str_to_int(s):\n",
        "  return int(s)\n",
        "def str_to_float(f):\n",
        "  return float(f)\n",
        "\n",
        "if __name__ ==\"__main__\":\n",
        "\n",
        "# single line comment\n",
        "  '''multi line comment'''\n",
        "\n",
        "  float_num=999.01\n",
        "  int_num=87\n",
        "  float_str='23.09'\n",
        "  int_str='19'\n",
        "  string=\"Hi Everyone\"\n",
        "\n",
        "  s_float=num_to_str(float_num)\n",
        "  s_int=num_to_str(int_num)\n",
        "  i_str=str_to_int(int_str)\n",
        "  f_str=str_to_float(float_str)\n",
        "\n",
        "  print(s_float, \" is \", type(s_float))\n",
        "  print(s_int)\n",
        "  print(f_str)\n",
        "  print(i_str)\n",
        "  str_ls=string.split()\n",
        "  print(str_ls)\n",
        "  print(' '.join(str_ls))"
      ],
      "metadata": {
        "colab": {
          "base_uri": "https://localhost:8080/"
        },
        "id": "OOVus4ARV1ai",
        "outputId": "57003cec-e932-4f57-8820-79564a46ddae"
      },
      "execution_count": 17,
      "outputs": [
        {
          "output_type": "stream",
          "name": "stdout",
          "text": [
            "999.01  is  <class 'str'>\n",
            "87\n",
            "23.09\n",
            "19\n",
            "['Hi', 'Everyone']\n",
            "Hi Everyone\n"
          ]
        }
      ]
    },
    {
      "cell_type": "markdown",
      "source": [
        "Reading and Writing Data"
      ],
      "metadata": {
        "id": "9IJ_K7bMYVeh"
      }
    },
    {
      "cell_type": "code",
      "source": [
        "import csv\n",
        "def read_txt(f):\n",
        "  with open(f,'r') as f:\n",
        "    d=f.readlines()\n",
        "    return[x.strip() for x in d]\n",
        "\n",
        "def conv_csv(t,c):\n",
        "  data=read_txt(t)\n",
        "  with open(c,'w', newline='') as csv_file:\n",
        "    writer=csv.writer(csv_file)\n",
        "    for line in data:\n",
        "      ls=line.split()\n",
        "      writer.writerow(ls)\n",
        "\n",
        "def read_csv(f):\n",
        "  content=''\n",
        "  with open(f,'r') as f:\n",
        "   reader=csv.reader(f)\n",
        "   return list(reader)\n",
        "\n",
        "def read_dict(f,h):\n",
        "  input_file= csv.DictReader(open(f), fieldnames=h)\n",
        "  return input_file\n",
        "\n",
        "def od_to_d(od):\n",
        "  return dict(od)\n",
        "\n",
        "if __name__ ==\"__main__\":\n",
        "  f=\"sample_data.txt\"\n",
        "  data=read_txt(f)\n",
        "\n",
        "  print('Text file data sample : ')\n",
        "  for i, row in enumerate(data):\n",
        "    if i<3:\n",
        "      print(row)\n",
        "  csv_f=\"sample_data.csv\"\n",
        "  conv_csv(f,csv_f)\n",
        "  r_csv=read_csv(csv_f)\n",
        "\n",
        "  print(\"\\ntext to csv sample : \")\n",
        "  for i, row in enumerate(r_csv):\n",
        "    if i>3:\n",
        "      print(row)\n",
        "  headers=['first','last']\n",
        "  r_dict=read_dict(csv_f,headers)\n",
        "  dict_ls=[]\n",
        "\n",
        "  print(\"\\ncsv to ordered dict sample : \")\n",
        "  for i,row in enumerate(r_dict):\n",
        "    r=od_to_d(row)\n",
        "    dict_ls.append(r)\n",
        "    if i<3:\n",
        "      print(row)\n",
        "\n",
        "  print(\"\\nList of Dictionary elements sample : \")\n",
        "  for i,row in enumerate(dict_ls):\n",
        "    if i<3:\n",
        "      print(row)"
      ],
      "metadata": {
        "colab": {
          "base_uri": "https://localhost:8080/"
        },
        "id": "OjLv9PBYYbKk",
        "outputId": "ad7a1fc6-a504-4ad3-d364-7216f73d0995"
      },
      "execution_count": 21,
      "outputs": [
        {
          "output_type": "stream",
          "name": "stdout",
          "text": [
            "Text file data sample : \n",
            "Name Age City\n",
            "Alice 25 New York\n",
            "Bob 30 Los Angeles\n",
            "\n",
            "text to csv sample : \n",
            "['David', '28', 'Houston']\n",
            "['Emma', '27', 'Phoenix']\n",
            "['Frank', '35', 'San', 'Francisco']\n",
            "['Grace', '29', 'Seattle']\n",
            "['Henry', '31', 'Denver']\n",
            "['Ivy', '26', 'Boston']\n",
            "['Jack', '32', 'Dallas']\n",
            "['Kevin', '24', 'Austin']\n",
            "['Laura', '33', 'San', 'Diego']\n",
            "['Mike', '36', 'Miami']\n",
            "['Nancy', '23', 'Atlanta']\n",
            "['Oscar', '29', 'Portland']\n",
            "['Paul', '37', 'Las', 'Vegas']\n",
            "['Quincy', '34', 'Philadelphia']\n",
            "['Rachel', '28', 'Charlotte']\n",
            "['Steve', '30', 'Indianapolis']\n",
            "\n",
            "csv to ordered dict sample : \n",
            "{'first': 'Name', 'last': 'Age', None: ['City']}\n",
            "{'first': 'Alice', 'last': '25', None: ['New', 'York']}\n",
            "{'first': 'Bob', 'last': '30', None: ['Los', 'Angeles']}\n",
            "\n",
            "List of Dictionary elements sample : \n",
            "{'first': 'Name', 'last': 'Age', None: ['City']}\n",
            "{'first': 'Alice', 'last': '25', None: ['New', 'York']}\n",
            "{'first': 'Bob', 'last': '30', None: ['Los', 'Angeles']}\n"
          ]
        }
      ]
    },
    {
      "cell_type": "markdown",
      "source": [
        "List Comprehension"
      ],
      "metadata": {
        "id": "Fh537QrthiMS"
      }
    },
    {
      "cell_type": "code",
      "source": [],
      "metadata": {
        "id": "2QbMO2bod9e1"
      },
      "execution_count": null,
      "outputs": []
    }
  ]
}